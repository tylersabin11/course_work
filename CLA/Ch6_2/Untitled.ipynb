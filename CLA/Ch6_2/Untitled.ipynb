{
 "cells": [
  {
   "cell_type": "code",
   "execution_count": 1,
   "id": "3b592195-f105-4274-9306-c91830c11bca",
   "metadata": {},
   "outputs": [
    {
     "name": "stdout",
     "output_type": "stream",
     "text": [
      "2.0\n"
     ]
    }
   ],
   "source": [
    "def main():\n",
    "    myfile = open('golf.txt','w')\n",
    "    \n",
    "    numPlayer = int(input(\"Enter the number of players in the tournament: \"))\n",
    "\n",
    "    for i in range(numPlayer+1):\n",
    "        name = input(\"Enter the name of the player: \")\n",
    "        score = int(input(\"Enter the golf score: \"))\n",
    "        myfile.write(name + '\\n')\n",
    "        myfile.write(str(score) + '\\n')\n",
    "\n",
    "    myfile.close()\n",
    "\n",
    "main()"
   ]
  },
  {
   "cell_type": "code",
   "execution_count": null,
   "id": "9958a489-f3a9-4c68-a079-fa0a84ff7387",
   "metadata": {},
   "outputs": [],
   "source": [
    "def main():\n",
    "    myfile = open('golf.txt','r')\n",
    "    \n",
    "    bestScore = 1000\n",
    "    bestPlayer = ''\n",
    "\n",
    "    name = myfile.readline()\n",
    "    while name != '':\n",
    "        score = myfile.readline()\n",
    "        golfScore = int(score)\n",
    "        if golfScore > bestPlayer:\n",
    "            bestScore = golfScore\n",
    "            bestPlayer = name\n",
    "        print(f'Name: {name}')\n",
    "        print(f'Golf Score: {golfScore}')\n",
    "        \n",
    "        name = myfile.readline()\n",
    "\n",
    "    myfile.close()\n",
    "\n",
    "    print(f'Winner is: {bestPlayer}, with {bestScore}')\n",
    "\n",
    "main()    "
   ]
  }
 ],
 "metadata": {
  "kernelspec": {
   "display_name": "Python 3 (ipykernel)",
   "language": "python",
   "name": "python3"
  },
  "language_info": {
   "codemirror_mode": {
    "name": "ipython",
    "version": 3
   },
   "file_extension": ".py",
   "mimetype": "text/x-python",
   "name": "python",
   "nbconvert_exporter": "python",
   "pygments_lexer": "ipython3",
   "version": "3.11.5"
  }
 },
 "nbformat": 4,
 "nbformat_minor": 5
}
