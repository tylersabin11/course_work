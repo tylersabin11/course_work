{
 "cells": [
  {
   "cell_type": "code",
   "execution_count": null,
   "id": "0e7319f4-b8f0-4ac0-89ca-201bad5618b1",
   "metadata": {},
   "outputs": [],
   "source": [
    "def main():\n",
    "    engSent = input(\"Enter a sentence: \")\n",
    "    list = engSent.split(' ')\n",
    "    pigLatin = ''\n",
    "    for index in range(len(list)):\n",
    "        tempList = list[index]\n",
    "        pigLatin += tempList[1:] + tempList[0] + 'ay' + ' '\n",
    "\n",
    "    print(pigLatin)\n",
    "main()"
   ]
  },
  {
   "cell_type": "code",
   "execution_count": null,
   "id": "74a4bd17-5fa2-4d34-9c40-ba6137f2677b",
   "metadata": {},
   "outputs": [],
   "source": []
  }
 ],
 "metadata": {
  "kernelspec": {
   "display_name": "Python 3 (ipykernel)",
   "language": "python",
   "name": "python3"
  },
  "language_info": {
   "codemirror_mode": {
    "name": "ipython",
    "version": 3
   },
   "file_extension": ".py",
   "mimetype": "text/x-python",
   "name": "python",
   "nbconvert_exporter": "python",
   "pygments_lexer": "ipython3",
   "version": "3.11.5"
  }
 },
 "nbformat": 4,
 "nbformat_minor": 5
}
