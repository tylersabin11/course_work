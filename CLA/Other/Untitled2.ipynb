{
 "cells": [
  {
   "cell_type": "code",
   "execution_count": 42,
   "id": "087f9a63-eb3a-41a4-987b-788b3785ae09",
   "metadata": {},
   "outputs": [
    {
     "name": "stdout",
     "output_type": "stream",
     "text": [
      "\n"
     ]
    }
   ],
   "source": [
    "email = 'tyler/sabin64@gmail.com'\n",
    "validEmail = ''\n",
    "\n",
    "for index in range(len(email)):\n",
    "    if '@' in email[0:len(email)] and email[0:len(email)].count('@') == 1:\n",
    "        if email[index].isalnum() or email[index] == '.':\n",
    "            validEmail += email[index]\n",
    "        elif email[index] == '@':\n",
    "            splitEmail = email.split('@')\n",
    "            validEmail += '@'\n",
    "            emailLine = splitEmail[1]\n",
    "            break\n",
    "        else:\n",
    "            validEmail = ''\n",
    "            break\n",
    "    else:\n",
    "        validEmail = ''\n",
    "        break\n",
    "\n",
    "if validEmail != '':\n",
    "    for index in range(len(emailLine)):\n",
    "        if emailLine[index].isalnum() or emailLine[index] == '.':\n",
    "            validEmail += emailLine[index]\n",
    "        else:\n",
    "           validEmail = '' \n",
    "\n",
    "print(validEmail)\n",
    "#print(validEmail)\n",
    "#print(emailLine)\n",
    "\n"
   ]
  },
  {
   "cell_type": "code",
   "execution_count": null,
   "id": "d9690f91-9d4f-4e4b-8ffb-201bac026f28",
   "metadata": {},
   "outputs": [],
   "source": []
  }
 ],
 "metadata": {
  "kernelspec": {
   "display_name": "Python 3 (ipykernel)",
   "language": "python",
   "name": "python3"
  },
  "language_info": {
   "codemirror_mode": {
    "name": "ipython",
    "version": 3
   },
   "file_extension": ".py",
   "mimetype": "text/x-python",
   "name": "python",
   "nbconvert_exporter": "python",
   "pygments_lexer": "ipython3",
   "version": "3.11.5"
  }
 },
 "nbformat": 4,
 "nbformat_minor": 5
}
