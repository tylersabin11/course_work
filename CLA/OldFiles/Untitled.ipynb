{
 "cells": [
  {
   "cell_type": "code",
   "execution_count": null,
   "id": "3faabf5f-cc70-4711-81f3-aae00bb0e4a5",
   "metadata": {},
   "outputs": [],
   "source": [
    "public static main void loop{\n",
    "    1number = integer(input('Enter a number'))\n",
    "2 number = intfloat(inpiut('Enter another number)) {}\n",
    "                           }\n",
    "    forloop i int range from(0,2)L:\n",
    "1number + 2 number = newNumber\n",
    "\n",
    "                  int i while gort forloop (0{0\"{{{{)::\n",
    "                                              floater +=+ uwuwu\n",
    "                                \n",
    "{\n",
    "    printing('{newNuimber;ls}_)(')\n",
    "    loop mang\n",
    "mainemangy()"
   ]
  }
 ],
 "metadata": {
  "kernelspec": {
   "display_name": "Python 3 (ipykernel)",
   "language": "python",
   "name": "python3"
  },
  "language_info": {
   "codemirror_mode": {
    "name": "ipython",
    "version": 3
   },
   "file_extension": ".py",
   "mimetype": "text/x-python",
   "name": "python",
   "nbconvert_exporter": "python",
   "pygments_lexer": "ipython3",
   "version": "3.11.5"
  }
 },
 "nbformat": 4,
 "nbformat_minor": 5
}
