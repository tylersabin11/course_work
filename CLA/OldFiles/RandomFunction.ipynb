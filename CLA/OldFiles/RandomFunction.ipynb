{
 "cells": [
  {
   "cell_type": "code",
   "execution_count": 3,
   "id": "e75c350e-0608-4441-9709-7f9d75373659",
   "metadata": {},
   "outputs": [
    {
     "name": "stdout",
     "output_type": "stream",
     "text": [
      "2\n",
      "5\n",
      "4\n"
     ]
    }
   ],
   "source": [
    "#This program stimulates rolling the dice\n",
    "\n",
    "import random as Rd\n",
    "\n",
    "MIN = 1\n",
    "MAX = 6\n",
    "\n",
    "def main():\n",
    "    count = 0\n",
    "    d1 = Rd.randint(MIN,MAX)\n",
    "    d2 = Rd.randint(MIN,MAX)\n",
    "    roll = d1 + d2\n",
    "\n",
    "    while roll != 7:\n",
    "        d1 = Rd.randint(MIN,MAX)\n",
    "        d2 = Rd.randint(MIN,MAX)\n",
    "        roll = d1 + d2\n",
    "        count += 1\n",
    "\n",
    "    print(d1)\n",
    "    print(d2)\n",
    "    print(count)\n",
    "\n",
    "if __name__ == \"__main__\":\n",
    "    main()"
   ]
  },
  {
   "cell_type": "code",
   "execution_count": 4,
   "id": "00f3983a-7bf5-4845-b340-95ea6f7bf770",
   "metadata": {},
   "outputs": [
    {
     "name": "stdin",
     "output_type": "stream",
     "text": [
      "Enter first num:  24\n",
      "Enter Second num:  64\n"
     ]
    },
    {
     "name": "stdout",
     "output_type": "stream",
     "text": [
      "64 24\n",
      "24 16\n",
      "16 8\n",
      "8 0\n",
      "8\n"
     ]
    }
   ],
   "source": [
    "#Euclidian algorithm\n",
    "\n",
    "x = int(input(\"Enter first num: \"))\n",
    "y = int(input(\"Enter Second num: \"))\n",
    "\n",
    "while(y): #y not 0\n",
    "    x , y = y , x % y\n",
    "    print(x,y)\n",
    "print(x)"
   ]
  },
  {
   "cell_type": "code",
   "execution_count": null,
   "id": "94a1f5f8-4ee3-45ae-b771-80bf4dd54e50",
   "metadata": {},
   "outputs": [],
   "source": []
  }
 ],
 "metadata": {
  "kernelspec": {
   "display_name": "Python 3 (ipykernel)",
   "language": "python",
   "name": "python3"
  },
  "language_info": {
   "codemirror_mode": {
    "name": "ipython",
    "version": 3
   },
   "file_extension": ".py",
   "mimetype": "text/x-python",
   "name": "python",
   "nbconvert_exporter": "python",
   "pygments_lexer": "ipython3",
   "version": "3.11.5"
  }
 },
 "nbformat": 4,
 "nbformat_minor": 5
}
