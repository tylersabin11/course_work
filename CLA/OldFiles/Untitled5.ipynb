{
 "cells": [
  {
   "cell_type": "code",
   "execution_count": null,
   "id": "740d7853-bf24-47db-a105-31786988dd94",
   "metadata": {},
   "outputs": [],
   "source": [
    "hyp = 2\n",
    "hypMax = 30\n",
    "side1 = 1\n",
    "side2 = 1\n",
    "hyp2 = 1\n",
    "\n",
    "print('Hyp','Side 1','Side 2',sep='\\t')\n",
    "\n",
    "for hyp in range(2,hypMax):\n",
    "    for side1 in range(1,hypMax):\n",
    "        for side2 in range(1,hypMax):\n",
    "            if ((side1 ** 2) + (side2 ** 2)) == (hyp ** 2) and side1 < side2:\n",
    "                    print(hyp,side1,side2,sep='\\t')"
   ]
  }
 ],
 "metadata": {
  "kernelspec": {
   "display_name": "Python 3 (ipykernel)",
   "language": "python",
   "name": "python3"
  },
  "language_info": {
   "codemirror_mode": {
    "name": "ipython",
    "version": 3
   },
   "file_extension": ".py",
   "mimetype": "text/x-python",
   "name": "python",
   "nbconvert_exporter": "python",
   "pygments_lexer": "ipython3",
   "version": "3.11.5"
  }
 },
 "nbformat": 4,
 "nbformat_minor": 5
}
