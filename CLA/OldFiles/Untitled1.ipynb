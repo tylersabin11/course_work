{
 "cells": [
  {
   "cell_type": "code",
   "execution_count": 9,
   "id": "e61ffad4-ee76-43c7-b91b-593c9dd52b29",
   "metadata": {},
   "outputs": [
    {
     "name": "stdin",
     "output_type": "stream",
     "text": [
      "Enter first number:  145\n",
      "Enter Second number:  245\n"
     ]
    },
    {
     "name": "stdout",
     "output_type": "stream",
     "text": [
      "GCD for 145 and 245 is: 5\n"
     ]
    }
   ],
   "source": [
    "def main():\n",
    "    num1 = int(input(\"Enter first number: \"))\n",
    "    num2 = int(input(\"Enter Second number: \"))\n",
    "    GCD = gcd(num1,num2)\n",
    "    print(f'GCD for {num1} and {num2} is: {GCD}')\n",
    "\n",
    "def gcd(num_1,num_2):\n",
    "    gcd = 1\n",
    "    numMax = 1\n",
    "    if num_1 < num_2:\n",
    "        numMax = num_2\n",
    "    elif num_1 > num_2:\n",
    "        numMax = num_1\n",
    "    else:\n",
    "        numMax = num_1\n",
    "    for i in range(1,numMax+1):\n",
    "        if num_1 % i == 0 and num_2 % i == 0:\n",
    "            if i > gcd:\n",
    "                gcd = i\n",
    "    return gcd\n",
    "\n",
    "main()"
   ]
  },
  {
   "cell_type": "code",
   "execution_count": null,
   "id": "1c990ef0-a39a-4761-a0be-1783ff762a8e",
   "metadata": {},
   "outputs": [],
   "source": []
  }
 ],
 "metadata": {
  "kernelspec": {
   "display_name": "Python 3 (ipykernel)",
   "language": "python",
   "name": "python3"
  },
  "language_info": {
   "codemirror_mode": {
    "name": "ipython",
    "version": 3
   },
   "file_extension": ".py",
   "mimetype": "text/x-python",
   "name": "python",
   "nbconvert_exporter": "python",
   "pygments_lexer": "ipython3",
   "version": "3.11.5"
  }
 },
 "nbformat": 4,
 "nbformat_minor": 5
}
