{
 "cells": [
  {
   "cell_type": "code",
   "execution_count": 2,
   "id": "ba04ae2b-74e3-44b2-9f4a-7e5634b49823",
   "metadata": {},
   "outputs": [
    {
     "name": "stdout",
     "output_type": "stream",
     "text": [
      "Hyp\tSide 1\tSide 2\n",
      "5\t3\t4\n",
      "10\t6\t8\n",
      "13\t5\t12\n",
      "15\t9\t12\n",
      "17\t8\t15\n",
      "20\t12\t16\n",
      "25\t7\t24\n",
      "25\t15\t20\n",
      "26\t10\t24\n",
      "29\t20\t21\n"
     ]
    }
   ],
   "source": [
    "hyp = 2\n",
    "hypMax = 30\n",
    "side1 = 1\n",
    "side2 = 1\n",
    "hyp2 = 1\n",
    "\n",
    "print('Hyp','Side 1','Side 2',sep='\\t')\n",
    "\n",
    "for hyp in range(2,hypMax):\n",
    "    for side1 in range(1,hypMax):\n",
    "        for side2 in range(1,hypMax):\n",
    "            if ((side1 ** 2) + (side2 ** 2)) == (hyp ** 2) and side1 < side2:\n",
    "                    print(hyp,side1,side2,sep='\\t')"
   ]
  },
  {
   "cell_type": "code",
   "execution_count": null,
   "id": "c3528bee-9f3c-41b8-9a4d-94d49e20cd63",
   "metadata": {},
   "outputs": [],
   "source": []
  }
 ],
 "metadata": {
  "kernelspec": {
   "display_name": "Python 3 (ipykernel)",
   "language": "python",
   "name": "python3"
  },
  "language_info": {
   "codemirror_mode": {
    "name": "ipython",
    "version": 3
   },
   "file_extension": ".py",
   "mimetype": "text/x-python",
   "name": "python",
   "nbconvert_exporter": "python",
   "pygments_lexer": "ipython3",
   "version": "3.11.5"
  }
 },
 "nbformat": 4,
 "nbformat_minor": 5
}
