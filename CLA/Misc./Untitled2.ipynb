{
 "cells": [
  {
   "cell_type": "code",
   "execution_count": 1,
   "id": "492e002e-d00c-40c6-8d86-60ffe0dae138",
   "metadata": {},
   "outputs": [
    {
     "name": "stdout",
     "output_type": "stream",
     "text": [
      " scores:    \n"
     ]
    }
   ],
   "source": [
    "averageFile = open('Student.txt','r')\n",
    "name = averageFile.readline()\n",
    "while name != '':\n",
    "    score1 = averageFile.readline()\n",
    "    score2 = averageFile.readline()\n",
    "    score3 = averageFile.readline()\n",
    "    score4 = averageFile.readline()\n",
    "    name = averageFile.readline()\n",
    "print(name, 'scores:', score1, score2, score3, score4)"
   ]
  },
  {
   "cell_type": "code",
   "execution_count": null,
   "id": "3950266e-32d5-4d69-b2d2-5ca700dd6a36",
   "metadata": {},
   "outputs": [],
   "source": []
  }
 ],
 "metadata": {
  "kernelspec": {
   "display_name": "Python 3 (ipykernel)",
   "language": "python",
   "name": "python3"
  },
  "language_info": {
   "codemirror_mode": {
    "name": "ipython",
    "version": 3
   },
   "file_extension": ".py",
   "mimetype": "text/x-python",
   "name": "python",
   "nbconvert_exporter": "python",
   "pygments_lexer": "ipython3",
   "version": "3.11.5"
  }
 },
 "nbformat": 4,
 "nbformat_minor": 5
}
