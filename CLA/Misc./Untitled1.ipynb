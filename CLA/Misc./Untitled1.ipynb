{
 "cells": [
  {
   "cell_type": "code",
   "execution_count": 8,
   "id": "573367bb-1465-443f-a427-21e523149a0f",
   "metadata": {},
   "outputs": [
    {
     "name": "stdin",
     "output_type": "stream",
     "text": [
      "Please enter the scores filename:  Student.txt\n"
     ]
    },
    {
     "name": "stdout",
     "output_type": "stream",
     "text": [
      "You entered Student.txt\n"
     ]
    }
   ],
   "source": [
    "def main():\n",
    "    fileName = input(\"Please enter the scores filename: \")\n",
    "    print(f'You entered {fileName}')\n",
    "    averageFile = open(fileName,'r')\n",
    "    tempFile = open(fileName,'w')\n",
    "\n",
    "    count = 0\n",
    "    passStd = 0\n",
    "    failStd = 0 \n",
    "    \n",
    "    name = averageFile.readline()\n",
    "    while name != '':\n",
    "        score1 = float(averageFile.readline())\n",
    "        score2 = float(averageFile.readline())\n",
    "        score3 = float(averageFile.readline())\n",
    "        score4 = float(averageFile.readline())\n",
    "        average = (score1 + score2 + score3 + score4) / 4\n",
    "        print(f'{name} scores: {score1:.2f} {score2:.2f} {score3:.2f} {score4:.2f} average: {average:.2f}')\n",
    "        round(average,2)\n",
    "        tempFile.write(name,',',str(average) + '\\n')\n",
    "        count += 1\n",
    "        if average <= 60:\n",
    "            failStd += 1\n",
    "        else:\n",
    "            passStd += 1\n",
    "        name = averageFile.readline()\n",
    "    count = str(count)\n",
    "    passStd = str(passStd)\n",
    "    failStd = str(failStd)\n",
    "    tempFile.write(f'Total number: {count}')\n",
    "    tempFile.write(f'Passed: {passStd}')\n",
    "    tempFile.write(f'Failed: {failStd}')\n",
    "\n",
    "    averageFile.close()\n",
    "    tempFile.close()\n",
    "    \n",
    "main()"
   ]
  },
  {
   "cell_type": "code",
   "execution_count": null,
   "id": "4341837e-dca6-494f-85d1-1b3eeb2050e4",
   "metadata": {},
   "outputs": [],
   "source": []
  }
 ],
 "metadata": {
  "kernelspec": {
   "display_name": "Python 3 (ipykernel)",
   "language": "python",
   "name": "python3"
  },
  "language_info": {
   "codemirror_mode": {
    "name": "ipython",
    "version": 3
   },
   "file_extension": ".py",
   "mimetype": "text/x-python",
   "name": "python",
   "nbconvert_exporter": "python",
   "pygments_lexer": "ipython3",
   "version": "3.11.5"
  }
 },
 "nbformat": 4,
 "nbformat_minor": 5
}
