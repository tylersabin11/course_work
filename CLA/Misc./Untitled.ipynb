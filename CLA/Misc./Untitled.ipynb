{
 "cells": [
  {
   "cell_type": "code",
   "execution_count": 5,
   "id": "7980e129-c76d-45a1-b953-b8992cc5f2f3",
   "metadata": {},
   "outputs": [
    {
     "name": "stdin",
     "output_type": "stream",
     "text": [
      "Please enter the scores filename:  test\n",
      "Enter the students name:  cat\n",
      "Enter the score for the student:  4\n",
      "Enter the score for the student:  3\n",
      "Enter the score for the student:  2\n",
      "Enter the score for the student:  1\n",
      "Enter the students name:  ty\n",
      "Enter the score for the student:  4\n",
      "Enter the score for the student:  3\n",
      "Enter the score for the student:  2\n",
      "Enter the score for the student:  1\n",
      "Enter the students name:  chris\n",
      "Enter the score for the student:  4\n",
      "Enter the score for the student:  3\n",
      "Enter the score for the student:  2\n",
      "Enter the score for the student:  1\n",
      "Enter the students name:  jake\n",
      "Enter the score for the student:  4\n",
      "Enter the score for the student:  3\n",
      "Enter the score for the student:  2\n",
      "Enter the score for the student:  1\n"
     ]
    }
   ],
   "source": [
    "import os\n",
    "\n",
    "def main():\n",
    "    fileName = input(\"Please enter the scores filename: \")\n",
    "    averageFile = open(fileName,'w')\n",
    "    for i in range(4):\n",
    "        name = input(\"Enter the students name: \")\n",
    "        score1 = int(input(\"Enter the score for the student: \"))\n",
    "        score2 = int(input(\"Enter the score for the student: \"))\n",
    "        score3 = int(input(\"Enter the score for the student: \"))\n",
    "        score4 = int(input(\"Enter the score for the student: \"))\n",
    "        averageFile.write(name + '\\n')\n",
    "        averageFile.write(str(score1) + '\\n')\n",
    "        averageFile.write(str(score2) + '\\n')\n",
    "        averageFile.write(str(score3) + '\\n')\n",
    "        averageFile.write(str(score4) + '\\n')\n",
    "\n",
    "    averageFile.close()\n",
    "\n",
    "main()"
   ]
  },
  {
   "cell_type": "code",
   "execution_count": null,
   "id": "5247dd77-232c-42e8-bd5b-e44d5916fc81",
   "metadata": {},
   "outputs": [],
   "source": []
  }
 ],
 "metadata": {
  "kernelspec": {
   "display_name": "Python 3 (ipykernel)",
   "language": "python",
   "name": "python3"
  },
  "language_info": {
   "codemirror_mode": {
    "name": "ipython",
    "version": 3
   },
   "file_extension": ".py",
   "mimetype": "text/x-python",
   "name": "python",
   "nbconvert_exporter": "python",
   "pygments_lexer": "ipython3",
   "version": "3.11.5"
  }
 },
 "nbformat": 4,
 "nbformat_minor": 5
}
