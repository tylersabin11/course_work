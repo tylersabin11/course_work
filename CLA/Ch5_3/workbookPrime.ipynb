{
 "cells": [
  {
   "cell_type": "code",
   "execution_count": 19,
   "id": "95e0e1ba-41dc-49cd-aaf8-264e47221d23",
   "metadata": {},
   "outputs": [
    {
     "name": "stdin",
     "output_type": "stream",
     "text": [
      "Enter an integer 17\n"
     ]
    },
    {
     "name": "stdout",
     "output_type": "stream",
     "text": [
      "Number is prime\n"
     ]
    }
   ],
   "source": [
    "def main():\n",
    "    num = int(input(\"Enter an integer\"))\n",
    "    if prime_num(num) == False:\n",
    "        print(\"Number is not prime\")\n",
    "    else:\n",
    "        print(\"Number is prime\")\n",
    "\n",
    "def prime_num(int):\n",
    "    for i in range(int-1,1,-1):\n",
    "        if int % i == 0:\n",
    "            return False\n",
    "\n",
    "if __name__ == \"__main__\":\n",
    "    main()"
   ]
  },
  {
   "cell_type": "code",
   "execution_count": null,
   "id": "2e6e87ae-5f86-46f6-9485-f7ccd8502ac9",
   "metadata": {},
   "outputs": [],
   "source": [
    "def main():\n",
    "    int = int(input(\"Enter an integer\"))\n",
    "    if prime_num(int):\n",
    "        print(\"Number is prime\")\n",
    "    else:\n",
    "        print(\"Number is not prime\")"
   ]
  }
 ],
 "metadata": {
  "kernelspec": {
   "display_name": "Python 3 (ipykernel)",
   "language": "python",
   "name": "python3"
  },
  "language_info": {
   "codemirror_mode": {
    "name": "ipython",
    "version": 3
   },
   "file_extension": ".py",
   "mimetype": "text/x-python",
   "name": "python",
   "nbconvert_exporter": "python",
   "pygments_lexer": "ipython3",
   "version": "3.12.8"
  }
 },
 "nbformat": 4,
 "nbformat_minor": 5
}
