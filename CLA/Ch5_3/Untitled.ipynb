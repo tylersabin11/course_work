{
 "cells": [
  {
   "cell_type": "code",
   "execution_count": 74,
   "id": "a6af7534-49dd-4f64-9cb1-5d7bbbb23119",
   "metadata": {},
   "outputs": [
    {
     "name": "stdout",
     "output_type": "stream",
     "text": [
      "You will play Rock, Paper, Scissors with the Computer \n",
      "\n",
      "\n"
     ]
    },
    {
     "name": "stdin",
     "output_type": "stream",
     "text": [
      "rock, paper, or scissors?  rock\n"
     ]
    },
    {
     "name": "stdout",
     "output_type": "stream",
     "text": [
      "I chose paper\n",
      "You chose rock\n",
      "I won \n",
      "\n",
      "\n"
     ]
    },
    {
     "name": "stdin",
     "output_type": "stream",
     "text": [
      "Do you want to play another game? y/n  n\n"
     ]
    },
    {
     "name": "stdout",
     "output_type": "stream",
     "text": [
      "Good bye\n"
     ]
    }
   ],
   "source": [
    "#Tyler Sabin\n",
    "#October 28, 2023\n",
    "#Section 006\n",
    "#This program will allow a user to play multiple R/P/S with a computer until the user no longer wishes to play\n",
    "\n",
    "import random as rn\n",
    "\n",
    "def main():\n",
    "    print(intro(), \"\\n\\n\")\n",
    "    play_game()\n",
    "    print(keep_going())\n",
    "\n",
    "#Give a brief intro of the game\n",
    "def intro():\n",
    "    return 'You will play Rock, Paper, Scissors with the Computer'\n",
    "\n",
    "#Generate a random number for the cpu's choice\n",
    "def get_comp_choice():\n",
    "    choiceCMP = rn.randint(1,3)\n",
    "    return choiceCMP\n",
    "\n",
    "#ask the user to input a choice, will require to enter another choice until the requirements are met\n",
    "def get_user_choice():\n",
    "    choiceUser = (input(\"rock, paper, or scissors? \"))\n",
    "    while choiceUser != \"rock\" and choiceUser != \"paper\" and choiceUser != \"scissors\":\n",
    "        print(\"Invalid input\")\n",
    "        choiceUser = input(\"rock, paper, or scissors?\")\n",
    "    return choiceUser\n",
    "\n",
    "#Accept a string input and convert it to an int\n",
    "def choice_to_num(choice):\n",
    "    if choice == \"rock\":\n",
    "        return 1\n",
    "    elif choice == \"paper\":\n",
    "        return 2\n",
    "    else:\n",
    "        return 3\n",
    "\n",
    "#Accept an int input and convert it to a string\n",
    "def num_to_choice(num):\n",
    "    if num == 1:\n",
    "        return 'rock'\n",
    "    elif num == 2:\n",
    "        return 'paper'\n",
    "    else:\n",
    "        return 'scissors'\n",
    "\n",
    "#Display the choices using the num_to_choice function\n",
    "def display_choices(choices_int):\n",
    "    choicesInt = num_to_choice(choices_int)\n",
    "    return choicesInt\n",
    "\n",
    "#Determine who won the game User/CPU\n",
    "def who_won(computer,user):\n",
    "    if computer == 1 and user == 2 or computer == 2 and user == 3 or user == 1 and computer == 3:\n",
    "        return 'You won'\n",
    "    elif computer == 1 and user == 3 or computer == 3 and user == 2 or user == 1 and computer == 2:\n",
    "        return 'I won'\n",
    "    else:\n",
    "        return 'It\\'s a tie'\n",
    "\n",
    "#Call all functions to have the game properly function in logical order\n",
    "def play_game():\n",
    "    userChoiceStr = get_user_choice()\n",
    "    userInt = choice_to_num(userChoiceStr)\n",
    "    computerChoiceInt = get_comp_choice()\n",
    "    print('I chose', display_choices(computerChoiceInt))\n",
    "    print('You chose', display_choices(userInt))\n",
    "    print(who_won(computerChoiceInt, userInt), \"\\n\\n\")\n",
    "\n",
    "#Determine if the user would like to continue playing or not\n",
    "def keep_going():\n",
    "    answer = input(\"Do you want to play another game? y/n \")\n",
    "    while answer != 'n':\n",
    "        play_game()\n",
    "        answer = input(\"Do you want to play another game? y/n \")\n",
    "    return 'Good bye'\n",
    "    \n",
    "main()"
   ]
  },
  {
   "cell_type": "raw",
   "id": "4c9404d5-d92a-47ec-bbd3-cfaf14dad84b",
   "metadata": {},
   "source": []
  }
 ],
 "metadata": {
  "kernelspec": {
   "display_name": "Python 3 (ipykernel)",
   "language": "python",
   "name": "python3"
  },
  "language_info": {
   "codemirror_mode": {
    "name": "ipython",
    "version": 3
   },
   "file_extension": ".py",
   "mimetype": "text/x-python",
   "name": "python",
   "nbconvert_exporter": "python",
   "pygments_lexer": "ipython3",
   "version": "3.11.5"
  }
 },
 "nbformat": 4,
 "nbformat_minor": 5
}
