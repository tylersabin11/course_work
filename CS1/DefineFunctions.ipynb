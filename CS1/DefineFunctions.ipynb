{
 "cells": [
  {
   "cell_type": "code",
   "execution_count": 12,
   "id": "d088eaa4-e9c1-4505-8b10-a8e73e4c1b7d",
   "metadata": {},
   "outputs": [
    {
     "name": "stdin",
     "output_type": "stream",
     "text": [
      "Enter start:  1\n",
      "Enter end:  10\n"
     ]
    },
    {
     "name": "stdout",
     "output_type": "stream",
     "text": [
      "55\n"
     ]
    }
   ],
   "source": [
    "def main():\n",
    "    x = int(input(\"Enter start: \"))\n",
    "    y = int(input(\"Enter end: \"))\n",
    "    Total(x,y)\n",
    "\n",
    "def Total(start,end):\n",
    "    sum = 0\n",
    "    for num in range(start,end+1):\n",
    "        sum += num\n",
    "    print(sum)\n",
    "\n",
    "main()"
   ]
  },
  {
   "cell_type": "code",
   "execution_count": null,
   "id": "ec3e81ff-85e4-487c-97af-b50c49a37ece",
   "metadata": {},
   "outputs": [],
   "source": [
    "def Avg(t1,t2,t3):\n",
    "    avg = (t1 + t2 + t3) / 3\n",
    "    return avg "
   ]
  },
  {
   "cell_type": "code",
   "execution_count": 26,
   "id": "ce8bad0c-1f98-4581-88be-6c39aad7051c",
   "metadata": {},
   "outputs": [
    {
     "name": "stdout",
     "output_type": "stream",
     "text": [
      "Time Distance\n",
      "10            490.00\n",
      "9             396.90\n",
      "8             313.60\n",
      "7             240.10\n",
      "6             176.40\n",
      "5             122.50\n",
      "4              78.40\n",
      "3              44.10\n",
      "2              19.60\n",
      "1               4.90\n"
     ]
    }
   ],
   "source": [
    "def falling_distance(secs):\n",
    "    g = 9.8\n",
    "    distance = (1/2) * (g * (secs ** 2))\n",
    "    return distance\n",
    "print('Time','Distance')\n",
    "def main():\n",
    "    for num in range(10,0,-1):\n",
    "        total = falling_distance(num)\n",
    "        print(f'{num:<10}{total:>10.2f}')\n",
    "\n",
    "main()"
   ]
  },
  {
   "cell_type": "code",
   "execution_count": null,
   "id": "4cb8e19d-767a-40bd-ae6e-2f647728e067",
   "metadata": {},
   "outputs": [],
   "source": []
  }
 ],
 "metadata": {
  "kernelspec": {
   "display_name": "Python 3 (ipykernel)",
   "language": "python",
   "name": "python3"
  },
  "language_info": {
   "codemirror_mode": {
    "name": "ipython",
    "version": 3
   },
   "file_extension": ".py",
   "mimetype": "text/x-python",
   "name": "python",
   "nbconvert_exporter": "python",
   "pygments_lexer": "ipython3",
   "version": "3.11.5"
  }
 },
 "nbformat": 4,
 "nbformat_minor": 5
}
